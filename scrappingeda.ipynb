{
 "cells": [
  {
   "cell_type": "code",
   "execution_count": 1,
   "metadata": {},
   "outputs": [],
   "source": [
    "from selenium import webdriver\n",
    "from bs4 import BeautifulSoup\n",
    "import time\n",
    "import pandas as pd"
   ]
  },
  {
   "cell_type": "code",
   "execution_count": null,
   "metadata": {},
   "outputs": [],
   "source": [
    "nama_produk = []\n",
    "harga_produk = []\n",
    "list_penjual = []\n",
    "kota_toko = []\n",
    "banyak_terjual = []\n",
    "rating_produk = []\n",
    "\n",
    "driver = webdriver.Chrome() \n",
    "\n",
    "# Ambil 10 halaman data\n",
    "for i in range(1,151):\n",
    "# Inisialisasi WebDriver\n",
    "    \n",
    "    url = 'https://www.tokopedia.com/search?navsource=&page={}&q=sepatu%20pria&srp_component_id=02.01.00.00&srp_page_id=&srp_page_title=&st='.format(i)\n",
    "    driver.get(url)\n",
    "\n",
    "    for i in range(19):\n",
    "        driver.execute_script(\"window.scrollBy(0, 250)\")\n",
    "        time.sleep(1)\n",
    "\n",
    "    driver.execute_script(\"window.scrollBy(50,0)\")\n",
    "    time.sleep(5)\n",
    "\n",
    "    # Ambil konten halaman setelah dirender oleh JavaScript\n",
    "    html = driver.page_source\n",
    "\n",
    "    # Parse dengan BeautifulSoup\n",
    "    soup = BeautifulSoup(html, 'html.parser')\n",
    "\n",
    "    # Menyimpan semua produk yang memiliki class `css-5wh65g` dalam satu list `list_produk`\n",
    "    list_produk = soup.find_all('div', {\"class\":\"css-5wh65g\"})\n",
    "\n",
    "    # Ekstrak elemen web yang menampilkan nama produk, harga produk, nama toko, kota toko,jumlah terjual, dan rating dengan memanggil nama class-nya\n",
    "    # try dan except untuk menghandling error jika data kosong sehingga bisa ditambahkan data None\n",
    "    for produk in list_produk:\n",
    "        try:\n",
    "            nama = produk.find('div', {\"class\":\"_6+OpBPVGAgqnmycna+bWIw==\"}).get_text()\n",
    "            nama_produk.append(nama)\n",
    "        except:\n",
    "            nama_produk.append(None)\n",
    "        \n",
    "        try:\n",
    "            harga = produk.find('div', {\"class\":\"_67d6E1xDKIzw+i2D2L0tjw==\"}).get_text() \n",
    "            harga_produk.append(harga)\n",
    "        except:\n",
    "            harga_produk.append(None)\n",
    "        \n",
    "        try:\n",
    "            penjual = produk.find('span', {\"class\":\"T0rpy-LEwYNQifsgB-3SQw== pC8DMVkBZGW7-egObcWMFQ== flip\"}).get_text()  # Nama produk\n",
    "            list_penjual.append(penjual)\n",
    "        except:\n",
    "            list_penjual.append(None)\n",
    "        \n",
    "        try:\n",
    "            kota = produk.find('span', {\"class\":\"pC8DMVkBZGW7-egObcWMFQ== flip\"}).get_text()  # Nama produk\n",
    "            kota_toko.append(kota)\n",
    "        except:\n",
    "            kota_toko.append(None)\n",
    "        \n",
    "        try:\n",
    "            terjual = produk.find('span', {\"class\":\"se8WAnkjbVXZNA8mT+Veuw==\"}).get_text()  # Nama produk\n",
    "            banyak_terjual.append(terjual)\n",
    "        except:\n",
    "            banyak_terjual.append(None)\n",
    "\n",
    "        try:\n",
    "            rating = produk.find('span', {\"class\":\"_9jWGz3C-GX7Myq-32zWG9w==\"}).get_text()  # Nama produk\n",
    "            rating_produk.append(rating)\n",
    "        except:\n",
    "            rating_produk.append(None)"
   ]
  },
  {
   "cell_type": "code",
   "execution_count": null,
   "metadata": {},
   "outputs": [],
   "source": [
    "# Menutup driver\n",
    "driver.quit()"
   ]
  },
  {
   "cell_type": "code",
   "execution_count": null,
   "metadata": {},
   "outputs": [],
   "source": [
    "# Membuat DataFrame dari semua kolom yang telah di scrapping\n",
    "data_list = list(zip(nama_produk, harga_produk, list_penjual, kota_toko, banyak_terjual, rating_produk))\n",
    "data = pd.DataFrame(data_list,columns=['nama_produk', 'harga_produk', 'penjual', 'kota_toko', 'banyak_terjual', 'rating_produk'])"
   ]
  },
  {
   "cell_type": "code",
   "execution_count": null,
   "metadata": {},
   "outputs": [],
   "source": [
    "data"
   ]
  }
 ],
 "metadata": {
  "kernelspec": {
   "display_name": "base",
   "language": "python",
   "name": "python3"
  },
  "language_info": {
   "codemirror_mode": {
    "name": "ipython",
    "version": 3
   },
   "file_extension": ".py",
   "mimetype": "text/x-python",
   "name": "python",
   "nbconvert_exporter": "python",
   "pygments_lexer": "ipython3",
   "version": "3.12.4"
  }
 },
 "nbformat": 4,
 "nbformat_minor": 2
}
